{
 "cells": [
  {
   "cell_type": "code",
   "execution_count": 1,
   "metadata": {
    "collapsed": true
   },
   "outputs": [],
   "source": [
    "import pandas as pd\n",
    "import numpy as np\n",
    "from sklearn import preprocessing"
   ]
  },
  {
   "cell_type": "code",
   "execution_count": 2,
   "metadata": {
    "collapsed": false
   },
   "outputs": [
    {
     "name": "stdout",
     "output_type": "stream",
     "text": [
      "(25250, 59)\n"
     ]
    }
   ],
   "source": [
    "df = pd.read_csv('Kickstarter.csv')\n",
    "del df['Url'], df['BackersNum'], df['Plaged'], df['UpdatesNum'], df['CommentsNum']\n",
    "del df[\"Location\"], #df['Month'], df[\"CDescLength\"], df['HasVideo']\n",
    "df.CampaignYear = df.CampaignYear.astype(str)\n",
    "df.Subcategory = df.Subcategory.astype(str)\n",
    "\n",
    "\n",
    "y = np.array(df.pop(\"Success\"))\n",
    "X = pd.get_dummies(df)\n",
    "headers = X.columns\n",
    "X = X.values\n",
    "X = preprocessing.scale(X)\n",
    "print(X.shape)"
   ]
  },
  {
   "cell_type": "markdown",
   "metadata": {},
   "source": [
    "### Izbira najboljših parametrov"
   ]
  },
  {
   "cell_type": "code",
   "execution_count": 5,
   "metadata": {
    "collapsed": true
   },
   "outputs": [],
   "source": [
    "from __future__ import print_function\n",
    "from sklearn import datasets, cross_validation\n",
    "from sklearn.cross_validation import train_test_split\n",
    "from sklearn.grid_search import GridSearchCV\n",
    "from sklearn.metrics import classification_report\n",
    "from sklearn.linear_model import LogisticRegression\n",
    "from sklearn.ensemble import RandomForestClassifier\n",
    "from sklearn.neighbors import KNeighborsClassifier\n",
    "from sklearn.ensemble import GradientBoostingClassifier\n",
    "from sklearn.ensemble import ExtraTreesClassifier"
   ]
  },
  {
   "cell_type": "code",
   "execution_count": 3,
   "metadata": {
    "collapsed": false
   },
   "outputs": [
    {
     "name": "stdout",
     "output_type": "stream",
     "text": [
      "Best parameters (LR): {'C': 250, 'penalty': 'l1'}\n",
      "Best parameters (RF): {'n_estimators': 2000}\n",
      "Best parameters (ET): {'n_estimators': 3000}\n"
     ]
    }
   ],
   "source": [
    "_, X_param, _, y_param = train_test_split(X, y, test_size=0.2, random_state=42)\n",
    "\n",
    "# Set the parameters by cross-validation\n",
    "lr_params = {'penalty': ['l1', 'l2'], 'C': [0.1, 1, 10, 100, 250, 500, 750, 1000]}\n",
    "rf_params = {'n_estimators': [10, 100, 500, 1000, 2000, 2500, 5000]}\n",
    "#gbc_params = {'n_estimators': [1, 10, 100, 250, 500, 575, 650, 800, 1000]}\n",
    "et_params = {'n_estimators': [10, 100, 1000, 2000, 3500, 5000]}\n",
    "\n",
    "\n",
    "# Logistic Regression\n",
    "clf_lr = GridSearchCV(LogisticRegression(), lr_params, cv=5, scoring=\"roc_auc\")\n",
    "clf_lr.fit(X_param, y_param)\n",
    "\n",
    "# Random Forest\n",
    "clf_rf = GridSearchCV(RandomForestClassifier(), rf_params, cv=5, scoring=\"roc_auc\")\n",
    "clf_rf.fit(X_param, y_param)\n",
    "\n",
    "# Extra Trees\n",
    "clf_et = GridSearchCV(ExtraTreesClassifier(), et_params, cv=5, scoring=\"roc_auc\")\n",
    "clf_et.fit(X_param, y_param)\n",
    "\n",
    "\n",
    "print(\"Best parameters (LR):\", clf_lr.best_params_)\n",
    "print(\"Best parameters (RF):\", clf_rf.best_params_)\n",
    "print(\"Best parameters (ET):\", clf_et.best_params_)"
   ]
  },
  {
   "cell_type": "code",
   "execution_count": 3,
   "metadata": {
    "collapsed": false
   },
   "outputs": [],
   "source": [
    "df = pd.read_csv('Kickstarter_2016.csv')\n",
    "del df['Url'], df['BackersNum'], df['Plaged'], df['UpdatesNum'], df['CommentsNum']\n",
    "del df[\"Location\"]\n",
    "df.CampaignYear = df.CampaignYear.astype(str)\n",
    "df.Subcategory = df.Subcategory.astype(str)\n",
    "\n",
    "y_test = np.array(df.pop(\"Success\"))\n",
    "X_test = pd.get_dummies(df)\n",
    "del df\n",
    "\n",
    "for key in headers.difference(X_test.columns):\n",
    "    X_test[key] = 0\n",
    "for key in X_test.columns.difference(headers):\n",
    "    del X_test[key]\n",
    "X_test = X_test[headers]\n",
    "X_test = X_test.values\n",
    "X_test = preprocessing.scale(X_test)"
   ]
  },
  {
   "cell_type": "markdown",
   "metadata": {},
   "source": [
    "## Vrednotenje uspešnosti modelov\n",
    "Napovedovanje uspešnosti projektov, ki so nastali po začetku izdelave projektne naloge in vrednotenje rezultatov."
   ]
  },
  {
   "cell_type": "code",
   "execution_count": 14,
   "metadata": {
    "collapsed": false
   },
   "outputs": [
    {
     "name": "stdout",
     "output_type": "stream",
     "text": [
      "\t F1\t     AUC\t CA\n",
      "RF \t 0.762       0.903       0.769\n",
      "ET \t 0.810       0.931       0.856\n",
      "LR \t 0.766       0.901       0.776\n"
     ]
    }
   ],
   "source": [
    "from sklearn import metrics\n",
    "from sklearn.ensemble import ExtraTreesClassifier\n",
    "\n",
    "models = {'LR': LogisticRegression(**clf_lr.best_params_),\n",
    "          'RF': RandomForestClassifier(**clf_rf.best_params_),\n",
    "          'ET': ExtraTreesClassifier(**clf_et.best_params_)}\n",
    "\n",
    "    \n",
    "results = {'LR': {}, 'RF': {}, 'ET': {}}#, 'ET':{}}\n",
    "\n",
    "\n",
    "for key in models:\n",
    "    models[key].fit(X, y)\n",
    "\n",
    "    results[key].setdefault('F1', []) \n",
    "    results[key].setdefault('AUC', [])\n",
    "    results[key].setdefault('CA', [])\n",
    "    ypred = models[key].predict(X_test)\n",
    "    ypred_prob = models[key].predict_proba(X_test)[:, 1]\n",
    "\n",
    "    # F1\n",
    "    results[key]['F1'].append(metrics.f1_score(y_test, ypred))\n",
    "\n",
    "    # CA\n",
    "    results[key]['CA'].append(metrics.accuracy_score(y_test, ypred))\n",
    "    \n",
    "    # AUC\n",
    "    fpr, tpr, thresholds = metrics.roc_curve(y_test, ypred_prob, pos_label=1)\n",
    "    results[key]['AUC'].append(metrics.auc(fpr, tpr))\n",
    "\n",
    "print('\\t F1\\t     AUC\\t CA')\n",
    "for key in results:\n",
    "    print(key, \"\\t\", \"{:.3f}\".format(np.mean(results[key]['F1'])), \"     \", \n",
    "          \"{:.3f}\".format(np.mean(results[key]['AUC'])), \"     \",\n",
    "          \"{:.3f}\".format(np.mean(results[key]['CA'])))"
   ]
  },
  {
   "cell_type": "markdown",
   "metadata": {},
   "source": [
    "## ROC krivulja\n",
    "Izris ROC krivulje za logistično regresijo, Random Forest in metodo Extra trees."
   ]
  },
  {
   "cell_type": "code",
   "execution_count": 6,
   "metadata": {
    "collapsed": false
   },
   "outputs": [
    {
     "data": {
      "image/png": "[encoded data removed]",
      "text/plain": [
       "<matplotlib.figure.Figure at 0x7fd1d327c400>"
      ]
     },
     "metadata": {},
     "output_type": "display_data"
    },
    {
     "data": {
      "image/png": "[encoded data removed]",
      "text/plain": [
       "<matplotlib.figure.Figure at 0x7fd1b6e90518>"
      ]
     },
     "metadata": {},
     "output_type": "display_data"
    }
   ],
   "source": [
    "%matplotlib inline\n",
    "import matplotlib.pyplot as plt\n",
    "from sklearn.cross_validation import train_test_split\n",
    "from sklearn.metrics import roc_curve\n",
    "from sklearn import metrics\n",
    "from sklearn.ensemble import ExtraTreesClassifier\n",
    "\n",
    "# The logistic regression model\n",
    "lr = LogisticRegression(**{'C': 250, 'penalty': 'l1'})\n",
    "lr.fit(X, y)\n",
    "y_pred_lr = lr.predict_proba(X_test)[:, 1]\n",
    "fpr_lr, tpr_lr, _ = roc_curve(y_test, y_pred_lr)\n",
    "\n",
    "# Extra trees model\n",
    "etc = ExtraTreesClassifier(**{'n_estimators': 3000})\n",
    "etc.fit(X, y)\n",
    "y_pred_etc = etc.predict_proba(X_test)[:, 1]\n",
    "fpr_etc, tpr_etc, _ = roc_curve(y_test, y_pred_etc)\n",
    "\n",
    "\n",
    "# The random forest model\n",
    "rf = RandomForestClassifier(**{'n_estimators': 2000})\n",
    "rf.fit(X, y)\n",
    "y_pred_rf = rf.predict_proba(X_test)[:, 1]\n",
    "fpr_rf, tpr_rf, _ = roc_curve(y_test, y_pred_rf)\n",
    "        \n",
    "plt.figure(1)\n",
    "plt.plot([0, 1], [0, 1], 'k--')\n",
    "plt.plot(fpr_lr, tpr_lr, label='LR')\n",
    "plt.plot(fpr_rf, tpr_rf, label='RF')\n",
    "plt.plot(fpr_etc, tpr_etc, label='ET')\n",
    "plt.xlabel('False positive rate')\n",
    "plt.ylabel('True positive rate')\n",
    "plt.title('ROC curve')\n",
    "plt.legend(loc='best')\n",
    "plt.show()\n",
    "\n",
    "plt.figure(2)\n",
    "plt.xlim(0, 0.3)\n",
    "plt.ylim(0.7, 1)\n",
    "plt.plot([0, 1], [0, 1], 'k--')\n",
    "plt.plot(fpr_lr, tpr_lr, label='LR')\n",
    "plt.plot(fpr_rf, tpr_rf, label='RF')\n",
    "plt.plot(fpr_etc, tpr_etc, label='ET')\n",
    "plt.xlabel('False positive rate')\n",
    "plt.ylabel('True positive rate')\n",
    "plt.title('ROC curve (zoomed in at top left)')\n",
    "plt.legend(loc='best')\n",
    "plt.show()"
   ]
  },
  {
   "cell_type": "markdown",
   "metadata": {},
   "source": [
    "## Napovedovanje z stackingom\n",
    "Napovedovanje z metodo stacking, ki jo na prvem nivoju sestavljajo: logistična reg., Random Forest in metoda Extra trees."
   ]
  },
  {
   "cell_type": "code",
   "execution_count": 34,
   "metadata": {
    "collapsed": true
   },
   "outputs": [],
   "source": [
    "import numpy as np\n",
    "import Orange as org\n",
    "import Orange\n",
    "import Orange.regression\n",
    "import Orange.classification\n",
    "from Orange.classification import LogisticRegressionLearner\n",
    "from Orange.classification import Model\n",
    "from Orange.regression import LinearRegressionLearner\n",
    "from Orange.evaluation import CrossValidation\n",
    "from Orange.data import Table, Domain, ContinuousVariable\n",
    "from sklearn import preprocessing\n",
    "from sklearn import metrics \n",
    "\n",
    "class StackedClassificationLearner(Orange.classification.Learner):\n",
    "\n",
    "    def __init__(self, learners, meta_learner=LogisticRegressionLearner, k=5):\n",
    "        super().__init__()\n",
    "        self.k = k  # number of internal cross-validations\n",
    "        self.learners = learners\n",
    "        self.meta_learner = meta_learner  # base learner\n",
    "        self.name = \"stacking\"\n",
    "\n",
    "    def fit_storage(self, data):\n",
    "        \"\"\"Return a stacked model inferred from the training set.\"\"\"\n",
    "        n = len(data.domain.class_var.values)\n",
    "        features = [ContinuousVariable(\"F%d\" % i)\n",
    "                    for i in range(len(self.learners) * (n - 1))]\n",
    "        domain = Domain(features, data.domain.class_var)\n",
    "        kf_total = cross_validation.KFold(len(data.X), n_folds=5)\n",
    "        p_data = y = None\n",
    "        for train, test in kf_total:\n",
    "            for learner in self.learners:\n",
    "                learner.fit(data.X[train], data.Y[train])\n",
    "            if p_data is None:\n",
    "                p_data =  np.hstack(learner.predict_proba(data.X[test])[:, :-1] for learner in self.learners)\n",
    "                y = np.array(data.Y[test])\n",
    "            else:\n",
    "                p_data = np.append(p_data, np.hstack(learner.predict_proba(data.X[test])[:, :-1] for learner in self.learners), axis=0)\n",
    "                y = np.append(y, data.Y[test])\n",
    "        #print(p_data[:5])\n",
    "        meta_data = Table(domain, p_data, y)\n",
    "        meta_model = self.meta_learner(meta_data)\n",
    "        models = [learner.fit(data.X, data.Y) for learner in self.learners]\n",
    "        return StackedClassificationModel(data.domain, Domain(features),\n",
    "                                          models, meta_model, name=self.name)\n",
    "\n",
    "class StackedClassificationModel(Orange.classification.Model):\n",
    "    \"\"\"\n",
    "    Stacked classifier.\n",
    "    \"\"\"\n",
    "    def __init__(self, domain, meta_domain, models,\n",
    "                 meta_model, name=\"stacking\"):\n",
    "        super().__init__(domain)\n",
    "        self.models = models  # a list of predictors\n",
    "        self.meta_model = meta_model\n",
    "        self.meta_domain = meta_domain\n",
    "        self.name = name\n",
    "\n",
    "    def predict_storage(self, data):\n",
    "        \"\"\"Given a data table returns predicted class.\"\"\"\n",
    "        x = np.hstack(model.predict_proba(data.X)[:, :-1] for model in self.models)\n",
    "        #print(\"x:\", x[:5])\n",
    "        #print(self.meta_domain, Model.ValueProbs)\n",
    "        data = Table(self.meta_domain, x)\n",
    "        return self.meta_model(data, Model.ValueProbs)"
   ]
  },
  {
   "cell_type": "code",
   "execution_count": 35,
   "metadata": {
    "collapsed": false
   },
   "outputs": [],
   "source": [
    "import Orange as org\n",
    "from sklearn.svm import SVC\n",
    "from sklearn.linear_model import LogisticRegression\n",
    "from sklearn.ensemble import RandomForestClassifier\n",
    "from sklearn.neighbors import KNeighborsClassifier\n",
    "from sklearn.ensemble import GradientBoostingClassifier\n",
    "\n",
    "from sklearn import svm\n",
    "\n",
    "\n",
    "\n",
    "data = org.data.Table(\"attr.csv\")\n",
    "data.X = X\n",
    "data.Y = y\n",
    "\n",
    "models = [RandomForestClassifier(**clf_rf.best_params_),\n",
    "          LogisticRegression(**clf_lr.best_params_),\n",
    "          ExtraTreesClassifier(**clf_et.best_params_)]\n",
    "\n",
    "# initialize multi-stage model\n",
    "scl = StackedClassificationLearner(models)\n",
    "\n",
    "# fit model\n",
    "scm = scl.fit_storage(data)"
   ]
  },
  {
   "cell_type": "code",
   "execution_count": 36,
   "metadata": {
    "collapsed": false,
    "scrolled": true
   },
   "outputs": [
    {
     "name": "stdout",
     "output_type": "stream",
     "text": [
      "\t\t F1\t    AUC     CA\n",
      "Stacking\t 0.667       0.811       0.646\n"
     ]
    }
   ],
   "source": [
    "from sklearn import metrics\n",
    "\n",
    "data.X = X_test\n",
    "data.Y = y_test\n",
    "ypred = scm.predict_storage(data)\n",
    "\n",
    "# F1\n",
    "result_f1 = metrics.f1_score(y_test, ypred[0])\n",
    "\n",
    "# AUC\n",
    "fpr, tpr, thresholds = metrics.roc_curve(y_test, ypred[1][:, 1], pos_label=1)\n",
    "result_auc = metrics.auc(fpr, tpr)\n",
    "\n",
    "result_ca = metrics.accuracy_score(y_test, ypred[0])\n",
    "       \n",
    "print('\\t\\t F1\\t    AUC     CA')\n",
    "print(\"Stacking\\t\", \"{:.3f}\".format(result_f1), \"     \", \n",
    "          \"{:.3f}\".format(result_auc), \"     \", \n",
    "          \"{:.3f}\".format(result_ca))"
   ]
  },
  {
   "cell_type": "markdown",
   "metadata": {},
   "source": [
    "### Napake\n",
    "Metoda Extra trees"
   ]
  },
  {
   "cell_type": "code",
   "execution_count": 49,
   "metadata": {
    "collapsed": false
   },
   "outputs": [
    {
     "name": "stdout",
     "output_type": "stream",
     "text": [
      "\t F1\t     AUC\t CA\n",
      "ET \t 0.813       0.932       0.858\n"
     ]
    }
   ],
   "source": [
    "models = {'ET': ExtraTreesClassifier(**clf_et.best_params_)}\n",
    "results = {'ET': {}}\n",
    "y_pred = []\n",
    "y_p = []\n",
    "\n",
    "for key in models:\n",
    "    models[key].fit(X, y)\n",
    "\n",
    "    results[key].setdefault('F1', []) \n",
    "    results[key].setdefault('AUC', [])\n",
    "    results[key].setdefault('CA', [])\n",
    "    ypred = models[key].predict(X_test)\n",
    "    ypred_prob = models[key].predict_proba(X_test)\n",
    "    \n",
    "    y_pred.append(ypred)\n",
    "    y_p.append(ypred_prob)\n",
    "\n",
    "    # F1\n",
    "    results[key]['F1'].append(metrics.f1_score(y_test, ypred))\n",
    "\n",
    "    # CA\n",
    "    results[key]['CA'].append(metrics.accuracy_score(y_test, ypred))\n",
    "    \n",
    "    # AUC\n",
    "    fpr, tpr, thresholds = metrics.roc_curve(y_test, ypred_prob[:, 1], pos_label=1)\n",
    "    results[key]['AUC'].append(metrics.auc(fpr, tpr))\n",
    "\n",
    "print('\\t F1\\t     AUC\\t CA')\n",
    "for key in results:\n",
    "    print(key, \"\\t\", \"{:.3f}\".format(np.mean(results[key]['F1'])), \"     \", \n",
    "          \"{:.3f}\".format(np.mean(results[key]['AUC'])), \"     \",\n",
    "          \"{:.3f}\".format(np.mean(results[key]['CA'])))"
   ]
  },
  {
   "cell_type": "code",
   "execution_count": 52,
   "metadata": {
    "collapsed": false
   },
   "outputs": [],
   "source": [
    "y_pred = y_pred[0]\n",
    "y_p = y_p[0]"
   ]
  },
  {
   "cell_type": "code",
   "execution_count": 56,
   "metadata": {
    "collapsed": false
   },
   "outputs": [
    {
     "name": "stdout",
     "output_type": "stream",
     "text": [
      "57 0.593005847953\n",
      "120 0.355725\n",
      "1248\n"
     ]
    }
   ],
   "source": [
    "i = ine = ipo = fn = fp = 0\n",
    "indexes_n = []\n",
    "indexes_p = []\n",
    "fn_pr = []\n",
    "fp_pr = []\n",
    "for yt, yp in zip(y_test, y_pred):\n",
    "    if(yt != yp):\n",
    "        indexes_n.append(i)\n",
    "        if(yt == 1):\n",
    "            fn +=  y_p[i][1]\n",
    "            fn_pr.append(y_p[i][1])\n",
    "            ine += 1\n",
    "        elif(yt == 0):\n",
    "            fp +=  y_p[i][1]\n",
    "            fp_pr.append(y_p[i][1])\n",
    "            ipo += 1\n",
    "    else:\n",
    "        indexes_p.append(i)\n",
    "    i += 1\n",
    "    \n",
    "print(ipo, fp/ipo)\n",
    "print(ine, fn/ine)\n",
    "print(len(y_test))"
   ]
  },
  {
   "cell_type": "code",
   "execution_count": 57,
   "metadata": {
    "collapsed": false
   },
   "outputs": [
    {
     "data": {
      "text/plain": [
       "array([[687,  57],\n",
       "       [120, 384]])"
      ]
     },
     "execution_count": 57,
     "metadata": {},
     "output_type": "execute_result"
    }
   ],
   "source": [
    "from sklearn.metrics import confusion_matrix\n",
    "\n",
    "confusion_matrix(y_test, y_pred)"
   ]
  },
  {
   "cell_type": "code",
   "execution_count": 61,
   "metadata": {
    "collapsed": true
   },
   "outputs": [
    {
     "name": "stdout",
     "output_type": "stream",
     "text": [
      "177\n",
      "0 .  FbConnection :  0.55\n",
      "1 .  BackedProj :  4.53\n",
      "2 .  CreatedProj :  1.03\n",
      "3 .  CDescLength :  360.89\n",
      "4 .  TitleLength :  36.34\n",
      "5 .  Goal :  24766.21\n",
      "6 .  Duration :  32.10\n",
      "7 .  RewardsNum :  7.10\n",
      "8 .  MinPledgeTiers :  44.69\n",
      "9 .  MaxPledgeTiers :  1709.09\n",
      "10 .  CharactersNum :  4458.40\n",
      "11 .  PucturesNum :  6.68\n",
      "12 .  VideosNum :  0.75\n",
      "13 .  HasVideo :  0.63\n",
      "14 .  CampaignYear_2014 :  0.42\n",
      "15 .  CampaignYear_2015 :  0.45\n",
      "16 .  CampaignYear_2016 :  0.13\n",
      "17 .  Month_Apr :  0.10\n",
      "18 .  Month_Aug :  0.09\n",
      "19 .  Month_Dec :  0.07\n",
      "20 .  Month_Feb :  0.14\n",
      "21 .  Month_Jan :  0.11\n",
      "22 .  Month_Jul :  0.10\n",
      "23 .  Month_Jun :  0.09\n",
      "24 .  Month_Mar :  0.05\n",
      "25 .  Month_May :  0.06\n",
      "26 .  Month_Nov :  0.04\n",
      "27 .  Month_Oct :  0.11\n",
      "28 .  Month_Sep :  0.05\n",
      "29 .  Subcategory_20 :  0.01\n",
      "30 .  Subcategory_21 :  0.01\n",
      "31 .  Subcategory_22 :  0.02\n",
      "32 .  Subcategory_23 :  0.02\n",
      "33 .  Subcategory_24 :  0.01\n",
      "34 .  Subcategory_25 :  0.01\n",
      "35 .  Subcategory_26 :  0.05\n",
      "36 .  Subcategory_27 :  0.03\n",
      "37 .  Subcategory_28 :  0.10\n",
      "38 .  Subcategory_29 :  0.02\n",
      "39 .  Subcategory_30 :  0.06\n",
      "40 .  Subcategory_31 :  0.02\n",
      "41 .  Subcategory_32 :  0.03\n",
      "42 .  Subcategory_33 :  0.02\n",
      "43 .  Subcategory_331 :  0.00\n",
      "44 .  Subcategory_332 :  0.13\n",
      "45 .  Subcategory_333 :  0.00\n",
      "46 .  Subcategory_334 :  0.02\n",
      "47 .  Subcategory_335 :  0.01\n",
      "48 .  Subcategory_336 :  0.01\n",
      "49 .  Subcategory_337 :  0.04\n",
      "50 .  Subcategory_338 :  0.02\n",
      "51 .  Subcategory_339 :  0.01\n",
      "52 .  Subcategory_34 :  0.06\n",
      "53 .  Subcategory_340 :  0.02\n",
      "54 .  Subcategory_341 :  0.02\n",
      "55 .  Subcategory_342 :  0.11\n",
      "56 .  Subcategory_362 :  0.00\n",
      "57 .  Subcategory_51 :  0.08\n",
      "58 .  Subcategory_52 :  0.08\n"
     ]
    }
   ],
   "source": [
    "df = pd.read_csv('Kickstarter.csv')\n",
    "del df['Url'], df['BackersNum'], df['Plaged'], df['UpdatesNum'], df['CommentsNum']\n",
    "del df[\"Location\"]\n",
    "df.CampaignYear = df.CampaignYear.astype(str)\n",
    "df.Subcategory = df.Subcategory.astype(str)\n",
    "\n",
    "\n",
    "yt = np.array(df.pop(\"Success\"))\n",
    "Xt = pd.get_dummies(df)\n",
    "Xt = Xt.values\n",
    "Xt, _, yt, _ = train_test_split(Xt, yt, test_size=0.2, random_state=42)\n",
    "\n",
    "Xt = Xt[indexes_n]\n",
    "print(len(indexes_n))\n",
    "subcat = {}\n",
    "for i in range(len(headers)):\n",
    "    avrg = sum([x[i] for x in Xt])/Xt.shape[0]\n",
    "    print(i, \". \", headers[i], \": \", \"{:.2f}\".format(avrg))\n",
    "    subcat[headers[i].split(\"_\")[-1]] = avrg"
   ]
  },
  {
   "cell_type": "markdown",
   "metadata": {},
   "source": [
    "### Analiza napačnih napovedi"
   ]
  },
  {
   "cell_type": "markdown",
   "metadata": {},
   "source": [
    "##### Napačno negatine napovedi"
   ]
  },
  {
   "cell_type": "code",
   "execution_count": 62,
   "metadata": {
    "collapsed": false
   },
   "outputs": [
    {
     "name": "stdout",
     "output_type": "stream",
     "text": [
      "0.355725 0.102875074029\n"
     ]
    },
    {
     "data": {
      "image/png": "[encoded data removed]",
      "text/plain": [
       "<matplotlib.figure.Figure at 0x7fee541d4ba8>"
      ]
     },
     "metadata": {},
     "output_type": "display_data"
    }
   ],
   "source": [
    "%matplotlib inline\n",
    "import matplotlib.pyplot as plt\n",
    "\n",
    "mu = np.average(fn_pr)\n",
    "sigma = np.std(np.array(fn_pr))\n",
    "\n",
    "print(mu, sigma)\n",
    "\n",
    "count, bins, ignored = plt.hist(fn_pr, 20)\n",
    "#plt.plot(bins, 1/(sigma * np.sqrt(2 * np.pi)) * np.exp( - (bins - mu)**2 / (2 * sigma**2)), linewidth=2, color='r')\n",
    "plt.show()"
   ]
  },
  {
   "cell_type": "markdown",
   "metadata": {},
   "source": [
    "##### Napačno pozitivne napovedi"
   ]
  },
  {
   "cell_type": "code",
   "execution_count": 63,
   "metadata": {
    "collapsed": false
   },
   "outputs": [
    {
     "name": "stdout",
     "output_type": "stream",
     "text": [
      "0.593005847953 0.072053085564\n"
     ]
    },
    {
     "data": {
      "image/png": "[encoded data removed]",
      "text/plain": [
       "<matplotlib.figure.Figure at 0x7fee58bf7278>"
      ]
     },
     "metadata": {},
     "output_type": "display_data"
    }
   ],
   "source": [
    "mu = np.average(fp_pr)\n",
    "sigma = np.std(np.array(fp_pr))\n",
    "\n",
    "print(mu, sigma)\n",
    "\n",
    "count, bins, ignored = plt.hist(fp_pr, 20)\n",
    "#plt.plot(bins, 1/(sigma * np.sqrt(2 * np.pi)) * np.exp( - (bins - mu)**2 / (2 * sigma**2)), linewidth=2, color='r')\n",
    "plt.show()"
   ]
  },
  {
   "cell_type": "markdown",
   "metadata": {},
   "source": [
    "##### Napake po kategorijah"
   ]
  },
  {
   "cell_type": "code",
   "execution_count": 66,
   "metadata": {
    "collapsed": false
   },
   "outputs": [
    {
     "name": "stdout",
     "output_type": "stream",
     "text": [
      "3D Printing &  15 & 0 & 0.00  \\\\\n",
      "Apps &  172 & 23 & 0.13  \\\\\n",
      "Camera Equipment &  11 & 0 & 0.00  \\\\\n",
      "DIY Electronics &  16 & 4 & 0.25  \\\\\n",
      "Fabrication Tools &  9 & 1 & 0.11  \\\\\n",
      "Flight &  9 & 2 & 0.22  \\\\\n",
      "Gadgets &  64 & 7 & 0.11  \\\\\n",
      "Robots &  9 & 4 & 0.44  \\\\\n",
      "Sound &  15 & 1 & 0.07  \\\\\n",
      "Space Exploration &  12 & 3 & 0.25  \\\\\n",
      "Wearables &  31 & 3 & 0.10  \\\\\n",
      "Web &  102 & 20 & 0.20  \\\\\n",
      "Software &  47 & 14 & 0.30  \\\\\n",
      "Hardware &  0 & 14 & inf  \\\\\n",
      "Makerspaces &  0 & 0 & nan  \\\\\n",
      "Digital Art &  8 & 1 & 0.12  \\\\\n",
      "Illustration &  60 & 4 & 0.07  \\\\\n",
      "Painting &  38 & 3 & 0.08  \\\\\n",
      "Performance Art &  20 & 2 & 0.10  \\\\\n",
      "Sculpture &  12 & 1 & 0.08  \\\\\n",
      "Crafts &  172 & 9 & 0.05  \\\\\n",
      "Graphic Design &  25 & 5 & 0.20  \\\\\n",
      "Product Design &  157 & 18 & 0.11  \\\\\n",
      "Animation &  33 & 4 & 0.12  \\\\\n",
      "Documentary &  69 & 10 & 0.14  \\\\\n",
      "Narrative Film &  28 & 3 & 0.11  \\\\\n",
      "Shorts &  65 & 5 & 0.08  \\\\\n",
      "Webseries &  49 & 3 & 0.06  \\\\\n",
      "Tabletop Games &  0 & 11 & inf  \\\\\n"
     ]
    }
   ],
   "source": [
    "df = pd.read_csv('Kickstarter_2016.csv')\n",
    "del df['Url'], df['BackersNum'], df['Plaged'], df['UpdatesNum'], df['CommentsNum'], df[\"Location\"]\n",
    "df.CampaignYear = df.CampaignYear.astype(str)\n",
    "df.Subcategory = df.Subcategory.astype(str)\n",
    "\n",
    "import urllib.parse\n",
    "import urllib.request\n",
    "import re\n",
    "categories = [i for i in range(331,343)] + [51, 52, 362] + [i for i in range(21,35)]\n",
    "for c in categories:\n",
    "    try:\n",
    "        url = 'https://www.kickstarter.com/discover/advanced?'\n",
    "        values = {'category_id' : c, 'woe_id': '0', 'sort': 'end_date', 'seed' : '2431954', 'page': 1}\n",
    "        data = urllib.parse.urlencode(values)\n",
    "        reqUrl = url + str(data)\n",
    "        req = urllib.request.Request(reqUrl)\n",
    "        resp = urllib.request.urlopen(req)\n",
    "        respData = resp.read()\n",
    "        categoriy = re.findall(r'class=\"category\">live (.*?) projects', str(respData))[0]\n",
    "        print(categoriy, \"& \", len(df[df.Subcategory == str(c)]), \"&\", \"{:.0f}\".format(subcat[str(c)]*len(indexes_n)),\n",
    "      \"&\", \"{:.2f}\".format(subcat[str(c)]*len(indexes_n)/len(df[df.Subcategory == str(c)])), \" \\\\\\\\\")\n",
    "    except Exception as e:\n",
    "        continue\n",
    "    "
   ]
  },
  {
   "cell_type": "markdown",
   "metadata": {},
   "source": [
    "## Analiza najpomembnejših atributov\n",
    "Analizirali smo najpomembnejše atribute pri logistični regresiji, Random Forest in Extra Tress algoritmu."
   ]
  },
  {
   "cell_type": "code",
   "execution_count": 8,
   "metadata": {
    "collapsed": false
   },
   "outputs": [
    {
     "data": {
      "text/plain": [
       "ExtraTreesClassifier(bootstrap=False, class_weight=None, criterion='gini',\n",
       "           max_depth=None, max_features='auto', max_leaf_nodes=None,\n",
       "           min_samples_leaf=1, min_samples_split=2,\n",
       "           min_weight_fraction_leaf=0.0, n_estimators=3000, n_jobs=1,\n",
       "           oob_score=False, random_state=None, verbose=0, warm_start=False)"
      ]
     },
     "execution_count": 8,
     "metadata": {},
     "output_type": "execute_result"
    }
   ],
   "source": [
    "lrm = LogisticRegression(**clf_lr.best_params_)\n",
    "lrm.fit(X, y)\n",
    "\n",
    "rfc = RandomForestClassifier(**clf_rf.best_params_)\n",
    "rfc.fit(X, y)\n",
    "\n",
    "forest = ExtraTreesClassifier(**clf_et.best_params_)\n",
    "forest.fit(X, y)"
   ]
  },
  {
   "cell_type": "code",
   "execution_count": 19,
   "metadata": {
    "collapsed": false
   },
   "outputs": [
    {
     "name": "stdout",
     "output_type": "stream",
     "text": [
      "['FbConnection' 'BackedProj' 'CreatedProj' 'CDescLength' 'TitleLength'\n",
      " 'Goal' 'Duration' 'RewardsNum' 'MinPledgeTiers' 'MaxPledgeTiers'\n",
      " 'CharactersNum' 'PucturesNum' 'VideosNum' 'HasVideo' 'CampaignYear_2014'\n",
      " 'CampaignYear_2015' 'CampaignYear_2016' 'Month_Apr' 'Month_Aug'\n",
      " 'Month_Dec' 'Month_Feb' 'Month_Jan' 'Month_Jul' 'Month_Jun' 'Month_Mar'\n",
      " 'Month_May' 'Month_Nov' 'Month_Oct' 'Month_Sep' 'Subcategory_20'\n",
      " 'Subcategory_21' 'Subcategory_22' 'Subcategory_23' 'Subcategory_24'\n",
      " 'Subcategory_25' 'Subcategory_26' 'Subcategory_27' 'Subcategory_28'\n",
      " 'Subcategory_29' 'Subcategory_30' 'Subcategory_31' 'Subcategory_32'\n",
      " 'Subcategory_33' 'Subcategory_331' 'Subcategory_332' 'Subcategory_333'\n",
      " 'Subcategory_334' 'Subcategory_335' 'Subcategory_336' 'Subcategory_337'\n",
      " 'Subcategory_338' 'Subcategory_339' 'Subcategory_34' 'Subcategory_340'\n",
      " 'Subcategory_341' 'Subcategory_342' 'Subcategory_362' 'Subcategory_51'\n",
      " 'Subcategory_52']\n"
     ]
    }
   ],
   "source": [
    "h = headers.values\n",
    "print(h)\n",
    "\"\"\"h[38] = 'FbConnected'\n",
    "h[39] = 'BackedPr'\n",
    "h[40] = 'CreatedPr'\n",
    "h[43] = 'Rewards'\n",
    "h[44] = 'MinR'\n",
    "h[45] = 'MaxR'\n",
    "h[46] = 'Characters'\n",
    "h[47] = 'PicturesNum'\n",
    "h[48] = 'VideosNum' \"\"\"\n",
    "h1 = [x.split('_')[-1] if len(x.split('_')) > 0 else x for x in h]\n",
    "h1 = np.array(h1)"
   ]
  },
  {
   "cell_type": "code",
   "execution_count": 16,
   "metadata": {
    "collapsed": true
   },
   "outputs": [
    {
     "name": "stdout",
     "output_type": "stream",
     "text": [
      "Logistična regresija\n",
      "Goal  &  -23.40 \\\\\n",
      "BackedProj  &  0.74 \\\\\n",
      "PucturesNum  &  0.51 \\\\\n",
      "Subcategory_332  &  -0.45 \\\\\n",
      "RewardsNum  &  0.45 \\\\\n",
      "Subcategory_32  &  0.41 \\\\\n",
      "Subcategory_34  &  0.38 \\\\\n",
      "Subcategory_342  &  -0.36 \\\\\n",
      "MinPledgeTiers  &  -0.35 \\\\\n",
      "HasVideo  &  0.35 \\\\\n",
      "Subcategory_28  &  0.29 \\\\\n",
      "CharactersNum  &  0.28 \\\\\n",
      "Duration  &  -0.27 \\\\\n",
      "Subcategory_30  &  0.25 \\\\\n",
      "Subcategory_51  &  -0.23 \\\\\n",
      "CampaignYear_2014  &  0.15 \\\\\n",
      "CampaignYear_2015  &  -0.12 \\\\\n",
      "Subcategory_22  &  0.11 \\\\\n",
      "Month_Oct  &  -0.09 \\\\\n",
      "Subcategory_26  &  0.09 \\\\\n",
      "Subcategory_29  &  -0.08 \\\\\n",
      "Subcategory_337  &  -0.08 \\\\\n",
      "Month_Jan  &  0.07 \\\\\n",
      "Month_Aug  &  -0.07 \\\\\n",
      "Month_Feb  &  0.06 \\\\\n",
      "Subcategory_52  &  -0.06 \\\\\n",
      "Subcategory_31  &  0.06 \\\\\n",
      "Month_Apr  &  0.06 \\\\\n",
      "Subcategory_336  &  -0.05 \\\\\n",
      "Subcategory_340  &  0.05 \\\\\n",
      "MaxPledgeTiers  &  -0.05 \\\\\n",
      "Subcategory_24  &  0.04 \\\\\n",
      "CampaignYear_2016  &  -0.04 \\\\\n",
      "Month_Sep  &  -0.04 \\\\\n",
      "Month_Nov  &  -0.04 \\\\\n",
      "VideosNum  &  -0.04 \\\\\n",
      "TitleLength  &  0.03 \\\\\n",
      "Subcategory_21  &  -0.03 \\\\\n",
      "Month_Mar  &  0.03 \\\\\n",
      "Subcategory_333  &  0.03 \\\\\n",
      "Subcategory_362  &  0.03 \\\\\n",
      "Subcategory_339  &  0.03 \\\\\n",
      "Subcategory_338  &  0.02 \\\\\n",
      "Subcategory_331  &  -0.02 \\\\\n",
      "Subcategory_341  &  -0.02 \\\\\n",
      "CreatedProj  &  0.02 \\\\\n",
      "Subcategory_33  &  -0.02 \\\\\n",
      "Subcategory_334  &  0.02 \\\\\n",
      "Month_May  &  0.02 \\\\\n",
      "Subcategory_27  &  -0.01 \\\\\n",
      "Subcategory_335  &  -0.01 \\\\\n",
      "Month_Jun  &  0.01 \\\\\n",
      "Subcategory_23  &  -0.01 \\\\\n",
      "CDescLength  &  -0.01 \\\\\n",
      "Month_Jul  &  -0.01 \\\\\n",
      "Subcategory_25  &  0.01 \\\\\n",
      "Month_Dec  &  -0.00 \\\\\n",
      "Subcategory_20  &  -0.00 \\\\\n",
      "FbConnection  &  0.00 \\\\\n"
     ]
    }
   ],
   "source": [
    "print(\"Logistična regresija\")\n",
    "a = np.array(lrm.coef_[0])\n",
    "indx = []\n",
    "for j in range(1,20):\n",
    "    imax = mx = 0\n",
    "    for i, fi in enumerate(a):\n",
    "        if i not in indx:\n",
    "            if abs(a[i]) > abs(mx):\n",
    "                imax, mx = i, a[i]\n",
    "    print(headers[imax], \" & \", \"{:.2f}\".format(mx), \"\\\\\\\\\")\n",
    "    indx.append(imax)\n",
    "    \n",
    "j = 0"
   ]
  },
  {
   "cell_type": "code",
   "execution_count": 23,
   "metadata": {
    "collapsed": false,
    "scrolled": false
   },
   "outputs": [
    {
     "data": {
      "image/png": "[encoded data removed]",
      "text/plain": [
       "<matplotlib.figure.Figure at 0x7fd1b6a7afd0>"
      ]
     },
     "metadata": {},
     "output_type": "display_data"
    }
   ],
   "source": [
    "best = 44\n",
    "importances = rfc.feature_importances_\n",
    "indices = np.argsort(importances)[::-1]\n",
    "\n",
    "# Plot the feature importances of the forest\n",
    "matplotlib.rcParams['figure.figsize'] = (20.0, 8.0)\n",
    "matplotlib.rcParams.update({'font.size': 20})\n",
    "# Plot the feature importances of the forest\n",
    "plt.figure()\n",
    "plt.title(\"Feature importances: Random Forest\")\n",
    "plt.bar(range(X.shape[1] - best), importances[indices[:-best]],\n",
    "       color=\"r\", align=\"center\")\n",
    "plt.xticks(range(X.shape[1]), h[indices[:-best]], rotation='vertical')\n",
    "plt.xlim([-1, X.shape[1] - best])\n",
    "plt.show()"
   ]
  },
  {
   "cell_type": "code",
   "execution_count": 24,
   "metadata": {
    "collapsed": false
   },
   "outputs": [
    {
     "data": {
      "image/png": "[encoded data removed]",
      "text/plain": [
       "<matplotlib.figure.Figure at 0x7fd1b6e82fd0>"
      ]
     },
     "metadata": {},
     "output_type": "display_data"
    }
   ],
   "source": [
    "# Build a forest and compute the feature importances\n",
    "importances = forest.feature_importances_\n",
    "std = np.std([tree.feature_importances_ for tree in forest.estimators_],\n",
    "             axis=0)\n",
    "indices = np.argsort(importances)[::-1]\n",
    "\n",
    "# Print the feature ranking\n",
    "#print(\"Feature ranking:\")\n",
    "#for f in range(X.shape[1]):\n",
    "#    print(\"%d. %s (%f)\" % (f + 1, header[indices[f]], importances[indices[f]]))\n",
    "\n",
    "# Plot the feature importances of the forest\n",
    "matplotlib.rcParams['figure.figsize'] = (20.0, 8.0)\n",
    "# Plot the feature importances of the forest\n",
    "plt.figure()\n",
    "plt.title(\"Feature importances\")\n",
    "plt.bar(range(X.shape[1] - best), importances[indices[:-best]],\n",
    "       color=\"g\", yerr=std[indices[:-best]], align=\"center\")\n",
    "plt.xticks(range(X.shape[1]), h[indices[:-best]], rotation='vertical')\n",
    "plt.xlim([-1, X.shape[1] - best])\n",
    "plt.show()"
   ]
  }
 ],
 "metadata": {
  "kernelspec": {
   "display_name": "Python 3",
   "language": "python",
   "name": "python3"
  },
  "language_info": {
   "codemirror_mode": {
    "name": "ipython",
    "version": 3
   },
   "file_extension": ".py",
   "mimetype": "text/x-python",
   "name": "python",
   "nbconvert_exporter": "python",
   "pygments_lexer": "ipython3",
   "version": "3.5.1"
  }
 },
 "nbformat": 4,
 "nbformat_minor": 0
}
