{
 "cells": [
  {
   "cell_type": "code",
   "execution_count": 2,
   "metadata": {
    "collapsed": true
   },
   "outputs": [],
   "source": [
    "import urllib.parse\n",
    "import urllib.request\n",
    "import re"
   ]
  },
  {
   "cell_type": "code",
   "execution_count": 3,
   "metadata": {
    "collapsed": false
   },
   "outputs": [],
   "source": [
    "file = open('urls.txt','a')\n",
    "    \n",
    "categories = [i for i in range(331,343)] + [51, 52, 362] + [i for i in range(21,35)]\n",
    "\n",
    "for index_id in range(0, len(categories)):\n",
    "    for i in range(1, 201):\n",
    "        url = 'https://www.kickstarter.com/discover/advanced?'\n",
    "        values = {'category_id' : categories[index_id], 'woe_id': '0', 'sort': 'end_date', 'seed' : '2431954', 'page': i}\n",
    "        data = urllib.parse.urlencode(values)\n",
    "        reqUrl = url + str(data)\n",
    "        req = urllib.request.Request(reqUrl)\n",
    "        resp = urllib.request.urlopen(req)\n",
    "        respData = resp.read()\n",
    "        projects = re.findall(r'<li class=\"project col col-3 mb4\">(.*?)</li>', str(respData))\n",
    "        for pr in projects:\n",
    "            ahrefs = re.findall(r'href=\"(.*?)\" target=\"\"',str(pr))\n",
    "            uns = re.findall(r'<div class=\"project-percent-pledged\"(.*?)</div>', str(pr))\n",
    "            if len(ahrefs) > 0 and len(uns) == 0:\n",
    "                try:\n",
    "                    file.write(\"https://www.kickstarter.com\" + ahrefs[0] + ',' + str(categories[index_id]) + '\\n')\n",
    "                except Exception as e:\n",
    "                    print(str(e))\n",
    "        if len(projects) < 10:\n",
    "            break\n",
    "            \n",
    "\n",
    "file.close()"
   ]
  }
 ],
 "metadata": {
  "kernelspec": {
   "display_name": "Python 3",
   "language": "python",
   "name": "python3"
  },
  "language_info": {
   "codemirror_mode": {
    "name": "ipython",
    "version": 3
   },
   "file_extension": ".py",
   "mimetype": "text/x-python",
   "name": "python",
   "nbconvert_exporter": "python",
   "pygments_lexer": "ipython3",
   "version": "3.5.1"
  }
 },
 "nbformat": 4,
 "nbformat_minor": 0
}
