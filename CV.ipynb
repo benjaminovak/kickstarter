{
 "cells": [
  {
   "cell_type": "code",
   "execution_count": 2,
   "metadata": {
    "collapsed": true
   },
   "outputs": [],
   "source": [
    "import pandas as pd\n",
    "import numpy as np\n",
    "from sklearn import preprocessing"
   ]
  },
  {
   "cell_type": "markdown",
   "metadata": {},
   "source": [
    "## Priprava podatkov"
   ]
  },
  {
   "cell_type": "code",
   "execution_count": 2,
   "metadata": {
    "collapsed": false
   },
   "outputs": [
    {
     "name": "stdout",
     "output_type": "stream",
     "text": [
      "(25250, 59)\n"
     ]
    }
   ],
   "source": [
    "df = pd.read_csv('Kickstarter.csv')\n",
    "del df['Url'], df['BackersNum'], df['Plaged'], df['UpdatesNum'], df['CommentsNum']\n",
    "df.Location = [x.split(\"-\")[-1] for x in df.Location]\n",
    "del df[\"Location\"], #df['Month'], df[\"CDescLength\"], df['HasVideo']\n",
    "df.CampaignYear = df.CampaignYear.astype(str)\n",
    "df.Subcategory = df.Subcategory.astype(str)\n",
    "\n",
    "y = np.array(df.pop(\"Success\"))\n",
    "X = pd.get_dummies(df)\n",
    "headers = X.columns\n",
    "X.head()\n",
    "X = X.values\n",
    "X = preprocessing.scale(X)\n",
    "print(X.shape)"
   ]
  },
  {
   "cell_type": "markdown",
   "metadata": {
    "collapsed": false
   },
   "source": [
    "# Izbira najboljših parametrov"
   ]
  },
  {
   "cell_type": "code",
   "execution_count": 5,
   "metadata": {
    "collapsed": true
   },
   "outputs": [],
   "source": [
    "from __future__ import print_function\n",
    "from sklearn import datasets, cross_validation\n",
    "from sklearn.cross_validation import train_test_split\n",
    "from sklearn.grid_search import GridSearchCV\n",
    "from sklearn.metrics import classification_report\n",
    "from sklearn.svm import SVC\n",
    "from sklearn.linear_model import LogisticRegression\n",
    "from sklearn.ensemble import RandomForestClassifier\n",
    "from sklearn.neighbors import KNeighborsClassifier\n",
    "from sklearn.ensemble import GradientBoostingClassifier\n",
    "from sklearn import svm\n",
    "\n",
    "X, X_param, y, y_param = train_test_split(X, y, test_size=0.2, random_state=42)"
   ]
  },
  {
   "cell_type": "code",
   "execution_count": 4,
   "metadata": {
    "collapsed": false
   },
   "outputs": [
    {
     "name": "stdout",
     "output_type": "stream",
     "text": [
      "Best parameters (LR): {'penalty': 'l1', 'C': 1000}\n",
      "Best parameters (RF): {'n_estimators': 5000}\n",
      "Best parameters (GBC): {'n_estimators': 250}\n"
     ]
    }
   ],
   "source": [
    "# Set the parameters by cross-validation\n",
    "lr_params = {'penalty': ['l1', 'l2'], 'C': [0.1, 1, 10, 100, 250, 500, 750, 1000, 2000]}\n",
    "rf_params = {'n_estimators': [10, 100, 500, 1000, 2000, 2500, 5000]}\n",
    "gbc_params = {'n_estimators': [1, 10, 100, 250, 500, 575, 650, 800, 1000]}\n",
    "\n",
    "\n",
    "# Logistic Regression\n",
    "clf_lr = GridSearchCV(LogisticRegression(), lr_params, cv=5, scoring=\"roc_auc\")\n",
    "clf_lr.fit(X_param, y_param)\n",
    "\n",
    "# Random Forest\n",
    "clf_rf = GridSearchCV(RandomForestClassifier(), rf_params, cv=5, scoring=\"roc_auc\")\n",
    "clf_rf.fit(X_param, y_param)\n",
    "\n",
    "# Gradient Boosting Classifier\n",
    "clf_gbc = GridSearchCV(GradientBoostingClassifier(), gbc_params, cv=5, scoring=\"roc_auc\")\n",
    "clf_gbc.fit(X_param, y_param)\n",
    "\n",
    "\n",
    "print(\"Best parameters (LR):\", clf_lr.best_params_)\n",
    "print(\"Best parameters (RF):\", clf_rf.best_params_)\n",
    "print(\"Best parameters (GBC):\", clf_gbc.best_params_)"
   ]
  },
  {
   "cell_type": "markdown",
   "metadata": {},
   "source": [
    "# Testiranje rezultatov"
   ]
  },
  {
   "cell_type": "code",
   "execution_count": 16,
   "metadata": {
    "collapsed": false,
    "scrolled": true
   },
   "outputs": [
    {
     "name": "stdout",
     "output_type": "stream",
     "text": [
      "(18957, 47)\n",
      "\t F1\t     AUC\tCA\n",
      "RF \t 0.822       0.854       0.873\n",
      "LR \t 0.786       0.826       0.854\n",
      "GBC \t 0.825       0.856       0.875\n"
     ]
    },
    {
     "data": {
      "text/plain": [
       "'Brez location in obični attr'"
      ]
     },
     "execution_count": 16,
     "metadata": {},
     "output_type": "execute_result"
    }
   ],
   "source": [
    "from sklearn import metrics \n",
    "\n",
    "print(X.shape)\n",
    "\n",
    "models = {'LR': LogisticRegression(**clf_lr.best_params_), \n",
    "          'RF': RandomForestClassifier(**clf_rf.best_params_), \n",
    "          'GBC': GradientBoostingClassifier(**clf_gbc.best_params_)}\n",
    "\n",
    "results = {'LR': {}, 'RF': {}, 'GBC': {}}\n",
    "\n",
    "kf_total = cross_validation.KFold(len(X), n_folds=10, shuffle=True, random_state=42)\n",
    "for train, test in kf_total:\n",
    "    for key in models:\n",
    "        models[key].fit(X[train], y[train])\n",
    "    \n",
    "        results[key].setdefault('F1', []) \n",
    "        results[key].setdefault('AUC', [])\n",
    "        results[key].setdefault('CA', [])\n",
    "        ypred = models[key].predict(X[test])\n",
    "        ypred_prob = models[key].predict_proba(X[test])[:, 1]\n",
    "        \n",
    "        # F1\n",
    "        results[key]['F1'].append(metrics.f1_score(y[test], ypred))\n",
    "        \n",
    "        # AUC\n",
    "        fpr, tpr, thresholds = metrics.roc_curve(y[test], ypred_prob, pos_label=1)\n",
    "        results[key]['AUC'].append(metrics.auc(fpr, tpr))\n",
    "        \n",
    "        # CA\n",
    "        results[key]['CA'].append(metrics.accuracy_score(y[test], ypred))\n",
    "        \n",
    "print('\\t F1\\t     AUC\\tCA')\n",
    "for key in results:\n",
    "    print(key, \"\\t\", \"{:.3f}\".format(np.mean(results[key]['F1'])), \"     \", \n",
    "          \"{:.3f}\".format(np.mean(results[key]['AUC'])), \"     \",\n",
    "          \"{:.3f}\".format(np.mean(results[key]['CA'])))"
   ]
  },
  {
   "cell_type": "markdown",
   "metadata": {},
   "source": [
    "### Površine pod krivuljo ROC"
   ]
  },
  {
   "cell_type": "code",
   "execution_count": 13,
   "metadata": {
    "collapsed": false
   },
   "outputs": [
    {
     "name": "stdout",
     "output_type": "stream",
     "text": [
      "(20200, 59)\n"
     ]
    },
    {
     "data": {
      "image/png": "[encoded data removed]",
      "text/plain": [
       "<matplotlib.figure.Figure at 0x7f364d138ba8>"
      ]
     },
     "metadata": {},
     "output_type": "display_data"
    },
    {
     "data": {
      "image/png": "[encoded data removed]",
      "text/plain": [
       "<matplotlib.figure.Figure at 0x7f36494bbd68>"
      ]
     },
     "metadata": {},
     "output_type": "display_data"
    }
   ],
   "source": [
    "%matplotlib inline\n",
    "import matplotlib.pyplot as plt\n",
    "from sklearn.cross_validation import train_test_split\n",
    "from sklearn.metrics import roc_curve\n",
    "\n",
    "X_train, X_test, y_train, y_test = train_test_split(X, y, test_size=0.15, random_state=42)\n",
    "print(X.shape)\n",
    "\n",
    "# The logistic regression model by itself\n",
    "lr = LogisticRegression(**clf_lr.best_params_)\n",
    "lr.fit(X_train, y_train)\n",
    "y_pred_lr = lr.predict_proba(X_test)[:, 1]\n",
    "fpr_lr, tpr_lr, _ = roc_curve(y_test, y_pred_lr)\n",
    "\n",
    "# The gradient boosted model by itself\n",
    "grd = GradientBoostingClassifier(**clf_gbc.best_params_)\n",
    "grd.fit(X_train, y_train)\n",
    "y_pred_grd = grd.predict_proba(X_test)[:, 1]\n",
    "fpr_grd, tpr_grd, _ = roc_curve(y_test, y_pred_grd)\n",
    "\n",
    "\n",
    "# The random forest model by itself\n",
    "rf = RandomForestClassifier(**clf_rf.best_params_)\n",
    "rf.fit(X_train, y_train)\n",
    "y_pred_rf = rf.predict_proba(X_test)[:, 1]\n",
    "fpr_rf, tpr_rf, _ = roc_curve(y_test, y_pred_rf)\n",
    "        \n",
    "plt.figure(1)\n",
    "plt.plot([0, 1], [0, 1], 'k--')\n",
    "plt.plot(fpr_lr, tpr_lr, label='LR')\n",
    "plt.plot(fpr_rf, tpr_rf, label='RF')\n",
    "plt.plot(fpr_grd, tpr_grd, label='GBT')\n",
    "plt.xlabel('False positive rate')\n",
    "plt.ylabel('True positive rate')\n",
    "plt.title('ROC curve')\n",
    "plt.legend(loc='best')\n",
    "plt.show()\n",
    "\n",
    "plt.figure(2)\n",
    "plt.xlim(0, 0.2)\n",
    "plt.ylim(0.8, 1)\n",
    "plt.plot([0, 1], [0, 1], 'k--')\n",
    "plt.plot(fpr_lr, tpr_lr, label='LR')\n",
    "plt.plot(fpr_rf, tpr_rf, label='RF')\n",
    "plt.plot(fpr_grd, tpr_grd, label='GBT')\n",
    "plt.xlabel('False positive rate')\n",
    "plt.ylabel('True positive rate')\n",
    "plt.title('ROC curve (zoomed in at top left)')\n",
    "plt.legend(loc='best')\n",
    "plt.show()"
   ]
  },
  {
   "cell_type": "markdown",
   "metadata": {},
   "source": [
    "# Metoda stacking\n",
    "Testiranje rezultatov pri metodi stacking"
   ]
  },
  {
   "cell_type": "code",
   "execution_count": 4,
   "metadata": {
    "collapsed": true
   },
   "outputs": [],
   "source": [
    "import numpy as np\n",
    "import Orange as org\n",
    "import Orange\n",
    "import Orange.regression\n",
    "import Orange.classification\n",
    "from Orange.classification import LogisticRegressionLearner\n",
    "from Orange.classification import Model\n",
    "from Orange.regression import LinearRegressionLearner\n",
    "from Orange.evaluation import CrossValidation\n",
    "from Orange.data import Table, Domain, ContinuousVariable\n",
    "from sklearn import preprocessing\n",
    "from sklearn import metrics \n",
    "\n",
    "class StackedClassificationLearner(Orange.classification.Learner):\n",
    "\n",
    "    def __init__(self, learners, meta_learner=LogisticRegressionLearner, k=5):\n",
    "        super().__init__()\n",
    "        self.k = k  # number of internal cross-validations\n",
    "        self.learners = learners\n",
    "        self.meta_learner = meta_learner  # base learner\n",
    "        self.name = \"stacking\"\n",
    "\n",
    "    def fit_storage(self, data):\n",
    "        \"\"\"Return a stacked model inferred from the training set.\"\"\"\n",
    "        n = len(data.domain.class_var.values)\n",
    "        features = [ContinuousVariable(\"F%d\" % i)\n",
    "                    for i in range(len(self.learners) * (n - 1))]\n",
    "        domain = Domain(features, data.domain.class_var)\n",
    "        kf_total = cross_validation.KFold(len(data.X), n_folds=5)\n",
    "        p_data = y = None\n",
    "        for train, test in kf_total:\n",
    "            for learner in self.learners:\n",
    "                learner.fit(data.X[train], data.Y[train])\n",
    "            if p_data is None:\n",
    "                p_data =  np.hstack(learner.predict_proba(data.X[test])[:, :-1] for learner in self.learners)\n",
    "                y = np.array(data.Y[test])\n",
    "            else:\n",
    "                p_data = np.append(p_data, np.hstack(learner.predict_proba(data.X[test])[:, :-1] for learner in self.learners), axis=0)\n",
    "                y = np.append(y, data.Y[test])\n",
    "        #print(p_data[:5])\n",
    "        meta_data = Table(domain, p_data, y)\n",
    "        meta_model = self.meta_learner(meta_data)\n",
    "        models = [learner.fit(data.X, data.Y) for learner in self.learners]\n",
    "        return StackedClassificationModel(data.domain, Domain(features),\n",
    "                                          models, meta_model, name=self.name)\n",
    "\n",
    "class StackedClassificationModel(Orange.classification.Model):\n",
    "    \"\"\"\n",
    "    Stacked classifier.\n",
    "    \"\"\"\n",
    "    def __init__(self, domain, meta_domain, models,\n",
    "                 meta_model, name=\"stacking\"):\n",
    "        super().__init__(domain)\n",
    "        self.models = models  # a list of predictors\n",
    "        self.meta_model = meta_model\n",
    "        self.meta_domain = meta_domain\n",
    "        self.name = name\n",
    "\n",
    "    def predict_storage(self, data):\n",
    "        \"\"\"Given a data table returns predicted class.\"\"\"\n",
    "        x = np.hstack(model.predict_proba(data.X)[:, :-1] for model in self.models)\n",
    "        #print(\"x:\", x[:5])\n",
    "        #print(self.meta_domain, Model.ValueProbs)\n",
    "        data = Table(self.meta_domain, x)\n",
    "        return self.meta_model(data, Model.ValueProbs)"
   ]
  },
  {
   "cell_type": "code",
   "execution_count": 9,
   "metadata": {
    "collapsed": false
   },
   "outputs": [
    {
     "name": "stdout",
     "output_type": "stream",
     "text": [
      "(20200, 59)\n",
      "\t\t F1\t    AUC     CA\n",
      "Stacking\t 0.770       0.922       0.846\n"
     ]
    }
   ],
   "source": [
    "result_f1 = []\n",
    "result_auc = []\n",
    "result_ca = []\n",
    "y_test = y_pred = []\n",
    "from sklearn.ensemble import ExtraTreesClassifier\n",
    "data = org.data.Table(\"attr.csv\")\n",
    "models = [RandomForestClassifier(**clf_rf.best_params_),\n",
    "          LogisticRegression(**clf_lr.best_params_),\n",
    "          GradientBoostingClassifier(**clf_gbc.best_params_)]\n",
    "\n",
    "print(X.shape)\n",
    "kf_total = cross_validation.KFold(len(X), n_folds=10, shuffle=True, random_state=42)\n",
    "for train, test in kf_total:\n",
    "    data.X = X[train]\n",
    "    data.Y = y[train]\n",
    "\n",
    "    # initialize multi-stage model\n",
    "    scl = StackedClassificationLearner(models)\n",
    "\n",
    "    # fit model\n",
    "    scm = scl.fit_storage(data)\n",
    "\n",
    "    data.X = X[test]\n",
    "    data.Y = y[test]\n",
    "    ypred = scm.predict_storage(data)\n",
    "    \n",
    "    y_test.append(y[test])\n",
    "    y_pred.append(ypred)\n",
    "\n",
    "    # F1\n",
    "    result_f1.append(metrics.f1_score(y[test], ypred[0]))\n",
    "\n",
    "    # AUC\n",
    "    fpr, tpr, thresholds = metrics.roc_curve(y[test], ypred[1][:, 1], pos_label=1)\n",
    "    result_auc.append(metrics.auc(fpr, tpr))\n",
    "    \n",
    "    result_ca.append(metrics.accuracy_score(y[test], ypred[0]))\n",
    "        \n",
    "print('\\t\\t F1\\t    AUC     CA')\n",
    "print(\"Stacking\\t\", \"{:.3f}\".format(np.mean(result_f1)), \"     \", \n",
    "          \"{:.3f}\".format(np.mean(result_auc)), \"     \", \n",
    "          \"{:.3f}\".format(np.mean(result_ca)))"
   ]
  },
  {
   "cell_type": "markdown",
   "metadata": {},
   "source": [
    "# Analiza napačnih napovedi\n",
    "Analiza primerov, ki smo jim pri metodi stacking napačno napovedali razred."
   ]
  },
  {
   "cell_type": "code",
   "execution_count": 10,
   "metadata": {
    "collapsed": false
   },
   "outputs": [],
   "source": [
    "a = [x for x in y_pred if len(x) == 2]"
   ]
  },
  {
   "cell_type": "code",
   "execution_count": 11,
   "metadata": {
    "collapsed": false,
    "scrolled": true
   },
   "outputs": [],
   "source": [
    "y_pred = np.array([])\n",
    "y_p = np.array([])\n",
    "for x,p in a:\n",
    "    y_pred = np.concatenate((y_pred, x), axis=0)\n",
    "    if len(y_p) == 0:\n",
    "        y_p = p\n",
    "        continue\n",
    "    y_p = np.concatenate((y_p, p), axis=0)"
   ]
  },
  {
   "cell_type": "code",
   "execution_count": 12,
   "metadata": {
    "collapsed": false
   },
   "outputs": [],
   "source": [
    "y_test = np.array([])\n",
    "t = np.array([])\n",
    "kf_total = cross_validation.KFold(len(X), n_folds=10, shuffle=True, random_state=42)\n",
    "for train, test in kf_total:\n",
    "    t = np.concatenate((t, test), axis=0)\n",
    "    y_test = np.concatenate((y_test, y[test]), axis=0)"
   ]
  },
  {
   "cell_type": "code",
   "execution_count": 22,
   "metadata": {
    "collapsed": false
   },
   "outputs": [
    {
     "name": "stdout",
     "output_type": "stream",
     "text": [
      "1309 0.708699593975\n",
      "1793 0.257489069225\n",
      "20200\n"
     ]
    }
   ],
   "source": [
    "i = ine = ipo = fn = fp = 0\n",
    "indexes_n = []\n",
    "indexes_p = []\n",
    "fn_pr = []\n",
    "fp_pr = []\n",
    "for yt, yp in zip(y_test, y_pred):\n",
    "    if(yt != yp):\n",
    "        indexes_n.append(i)\n",
    "        if(yt == 1):\n",
    "            fn +=  y_p[i][1]\n",
    "            fn_pr.append(y_p[i][1])\n",
    "            ine += 1\n",
    "        elif(yt == 0):\n",
    "            fp +=  y_p[i][1]\n",
    "            fp_pr.append(y_p[i][1])\n",
    "            ipo += 1\n",
    "    else:\n",
    "        indexes_p.append(i)\n",
    "            \n",
    "\n",
    "    i += 1\n",
    "    \n",
    "print(ipo, fp/ipo)\n",
    "print(ine, fn/ine)\n",
    "print(len(y_test))"
   ]
  },
  {
   "cell_type": "code",
   "execution_count": 16,
   "metadata": {
    "collapsed": false
   },
   "outputs": [
    {
     "data": {
      "text/plain": [
       "array([[11906,  1309],\n",
       "       [ 1793,  5192]])"
      ]
     },
     "execution_count": 16,
     "metadata": {},
     "output_type": "execute_result"
    }
   ],
   "source": [
    "from sklearn.metrics import confusion_matrix\n",
    "\n",
    "confusion_matrix(y_test, y_pred)"
   ]
  },
  {
   "cell_type": "markdown",
   "metadata": {},
   "source": [
    "### Vrednosti atributov pri napačnih napovedih\n",
    "Sprva so podatki primerov, ki smo jih napačno klasificirali in nato tisti, ki smo jih pravilno."
   ]
  },
  {
   "cell_type": "code",
   "execution_count": 27,
   "metadata": {
    "collapsed": true
   },
   "outputs": [
    {
     "name": "stdout",
     "output_type": "stream",
     "text": [
      "3102\n",
      "0 .  FbConnection :  0.53\n",
      "1 .  BackedProj :  4.73\n",
      "2 .  CreatedProj :  0.91\n",
      "3 .  CDescLength :  371.58\n",
      "4 .  TitleLength :  39.58\n",
      "5 .  Goal :  20034.43\n",
      "6 .  Duration :  32.41\n",
      "7 .  RewardsNum :  9.33\n",
      "8 .  MinPledgeTiers :  10.82\n",
      "9 .  MaxPledgeTiers :  2259.25\n",
      "10 .  CharactersNum :  5802.35\n",
      "11 .  PucturesNum :  11.18\n",
      "12 .  VideosNum :  1.09\n",
      "13 .  HasVideo :  0.82\n",
      "14 .  CampaignYear_2014 :  0.35\n",
      "15 .  CampaignYear_2015 :  0.56\n",
      "16 .  CampaignYear_2016 :  0.08\n",
      "17 .  Month_Apr :  0.08\n",
      "18 .  Month_Aug :  0.08\n",
      "19 .  Month_Dec :  0.07\n",
      "20 .  Month_Feb :  0.08\n",
      "21 .  Month_Jan :  0.08\n",
      "22 .  Month_Jul :  0.08\n",
      "23 .  Month_Jun :  0.09\n",
      "24 .  Month_Mar :  0.09\n",
      "25 .  Month_May :  0.08\n",
      "26 .  Month_Nov :  0.10\n",
      "27 .  Month_Oct :  0.08\n",
      "28 .  Month_Sep :  0.08\n",
      "29 .  Subcategory_20 :  0.01\n",
      "30 .  Subcategory_21 :  0.01\n",
      "31 .  Subcategory_22 :  0.04\n",
      "32 .  Subcategory_23 :  0.04\n",
      "33 .  Subcategory_24 :  0.02\n",
      "34 .  Subcategory_25 :  0.01\n",
      "35 .  Subcategory_26 :  0.07\n",
      "36 .  Subcategory_27 :  0.03\n",
      "37 .  Subcategory_28 :  0.09\n",
      "38 .  Subcategory_29 :  0.02\n",
      "39 .  Subcategory_30 :  0.07\n",
      "40 .  Subcategory_31 :  0.04\n",
      "41 .  Subcategory_32 :  0.02\n",
      "42 .  Subcategory_33 :  0.04\n",
      "43 .  Subcategory_331 :  0.02\n",
      "44 .  Subcategory_332 :  0.04\n",
      "45 .  Subcategory_333 :  0.01\n",
      "46 .  Subcategory_334 :  0.02\n",
      "47 .  Subcategory_335 :  0.00\n",
      "48 .  Subcategory_336 :  0.01\n",
      "49 .  Subcategory_337 :  0.07\n",
      "50 .  Subcategory_338 :  0.02\n",
      "51 .  Subcategory_339 :  0.02\n",
      "52 .  Subcategory_34 :  0.04\n",
      "53 .  Subcategory_340 :  0.01\n",
      "54 .  Subcategory_341 :  0.04\n",
      "55 .  Subcategory_342 :  0.04\n",
      "56 .  Subcategory_362 :  0.01\n",
      "57 .  Subcategory_51 :  0.03\n",
      "58 .  Subcategory_52 :  0.09\n"
     ]
    }
   ],
   "source": [
    "t = t.astype(int)\n",
    "\n",
    "df = pd.read_csv('Kickstarter.csv')\n",
    "del df['Url'], df['BackersNum'], df['Plaged'], df['UpdatesNum'], df['CommentsNum']\n",
    "#df.Location = [x.split(\"-\")[-1] for x in df.Location]\n",
    "del df[\"Location\"], #df['Month'], df[\"CDescLength\"], df['HasVideo']\n",
    "df.CampaignYear = df.CampaignYear.astype(str)\n",
    "df.Subcategory = df.Subcategory.astype(str)\n",
    "\n",
    "\n",
    "yt = np.array(df.pop(\"Success\"))\n",
    "Xt = pd.get_dummies(df)\n",
    "Xt = Xt.values\n",
    "Xt, _, yt, _ = train_test_split(Xt, yt, test_size=0.2, random_state=42)\n",
    "\n",
    "Xt = Xt[t[indexes_n]]\n",
    "print(len(t[indexes_n]))\n",
    "subcat = {}\n",
    "for i in range(len(headers)):\n",
    "    avrg = sum([x[i] for x in Xt])/Xt.shape[0]\n",
    "    print(i, \". \", headers[i], \": \", \"{:.2f}\".format(avrg))\n",
    "    subcat[headers[i].split(\"_\")[-1]] = avrg"
   ]
  },
  {
   "cell_type": "code",
   "execution_count": 26,
   "metadata": {
    "collapsed": true
   },
   "outputs": [
    {
     "name": "stdout",
     "output_type": "stream",
     "text": [
      "20200\n",
      "0 .  FbConnection :  0.52\n",
      "1 .  BackedProj :  5.47\n",
      "2 .  CreatedProj :  1.18\n",
      "3 .  CDescLength :  362.70\n",
      "4 .  TitleLength :  36.38\n",
      "5 .  Goal :  64292.60\n",
      "6 .  Duration :  33.52\n",
      "7 .  RewardsNum :  7.52\n",
      "8 .  MinPledgeTiers :  52.09\n",
      "9 .  MaxPledgeTiers :  1841.14\n",
      "10 .  CharactersNum :  4889.40\n",
      "11 .  PucturesNum :  8.40\n",
      "12 .  VideosNum :  0.88\n",
      "13 .  HasVideo :  0.68\n",
      "14 .  CampaignYear_2014 :  0.36\n",
      "15 .  CampaignYear_2015 :  0.54\n",
      "16 .  CampaignYear_2016 :  0.10\n",
      "17 .  Month_Apr :  0.07\n",
      "18 .  Month_Aug :  0.08\n",
      "19 .  Month_Dec :  0.08\n",
      "20 .  Month_Feb :  0.10\n",
      "21 .  Month_Jan :  0.09\n",
      "22 .  Month_Jul :  0.09\n",
      "23 .  Month_Jun :  0.08\n",
      "24 .  Month_Mar :  0.08\n",
      "25 .  Month_May :  0.07\n",
      "26 .  Month_Nov :  0.09\n",
      "27 .  Month_Oct :  0.09\n",
      "28 .  Month_Sep :  0.08\n",
      "29 .  Subcategory_20 :  0.01\n",
      "30 .  Subcategory_21 :  0.01\n",
      "31 .  Subcategory_22 :  0.02\n",
      "32 .  Subcategory_23 :  0.03\n",
      "33 .  Subcategory_24 :  0.01\n",
      "34 .  Subcategory_25 :  0.01\n",
      "35 .  Subcategory_26 :  0.07\n",
      "36 .  Subcategory_27 :  0.02\n",
      "37 .  Subcategory_28 :  0.09\n",
      "38 .  Subcategory_29 :  0.02\n",
      "39 .  Subcategory_30 :  0.06\n",
      "40 .  Subcategory_31 :  0.02\n",
      "41 .  Subcategory_32 :  0.03\n",
      "42 .  Subcategory_33 :  0.03\n",
      "43 .  Subcategory_331 :  0.02\n",
      "44 .  Subcategory_332 :  0.12\n",
      "45 .  Subcategory_333 :  0.01\n",
      "46 .  Subcategory_334 :  0.02\n",
      "47 .  Subcategory_335 :  0.00\n",
      "48 .  Subcategory_336 :  0.01\n",
      "49 .  Subcategory_337 :  0.06\n",
      "50 .  Subcategory_338 :  0.01\n",
      "51 .  Subcategory_339 :  0.01\n",
      "52 .  Subcategory_34 :  0.06\n",
      "53 .  Subcategory_340 :  0.01\n",
      "54 .  Subcategory_341 :  0.03\n",
      "55 .  Subcategory_342 :  0.10\n",
      "56 .  Subcategory_362 :  0.01\n",
      "57 .  Subcategory_51 :  0.06\n",
      "58 .  Subcategory_52 :  0.07\n"
     ]
    }
   ],
   "source": [
    "t = t.astype(int)\n",
    "\n",
    "df = pd.read_csv('Kickstarter.csv')\n",
    "del df['Url'], df['BackersNum'], df['Plaged'], df['UpdatesNum'], df['CommentsNum']\n",
    "#df.Location = [x.split(\"-\")[-1] for x in df.Location]\n",
    "del df[\"Location\"], #df['Month'], df[\"CDescLength\"], df['HasVideo']\n",
    "df.CampaignYear = df.CampaignYear.astype(str)\n",
    "df.Subcategory = df.Subcategory.astype(str)\n",
    "\n",
    "\n",
    "yt = np.array(df.pop(\"Success\"))\n",
    "Xt = pd.get_dummies(df)\n",
    "Xt = Xt.values\n",
    "Xt, _, yt, _ = train_test_split(Xt, yt, test_size=0.2, random_state=42)\n",
    "\n",
    "\n",
    "Xt = Xt[t[indexes_p]]\n",
    "print(len(t[indexes_p]))\n",
    "subcat = {}\n",
    "for i in range(len(headers)):\n",
    "    avrg = sum([x[i] for x in Xt])/Xt.shape[0]\n",
    "    print(i, \". \", headers[i], \": \", \"{:.2f}\".format(avrg))\n",
    "    subcat[headers[i].split(\"_\")[-1]] = avrg"
   ]
  },
  {
   "cell_type": "markdown",
   "metadata": {},
   "source": [
    "### Kategorije projekta\n",
    "Število napačnih napovedi po kategorijah"
   ]
  },
  {
   "cell_type": "code",
   "execution_count": 28,
   "metadata": {
    "collapsed": true
   },
   "outputs": [],
   "source": [
    "df = pd.read_csv('Kickstarter.csv')\n",
    "del df['Url'], df['BackersNum'], df['Plaged'], df['UpdatesNum'], df['CommentsNum']\n",
    "#df.Location = [x.split(\"-\")[-1] for x in df.Location]\n",
    "del df[\"Location\"], #df['Month'], df[\"CDescLength\"], df['HasVideo']\n",
    "df.CampaignYear = df.CampaignYear.astype(str)\n",
    "df.Subcategory = df.Subcategory.astype(str)"
   ]
  },
  {
   "cell_type": "code",
   "execution_count": 30,
   "metadata": {
    "collapsed": true
   },
   "outputs": [
    {
     "name": "stdout",
     "output_type": "stream",
     "text": [
      "Apps &  3018 & 136 & 0.05  \\\\\n",
      "DIY Electronics &  414 & 75 & 0.18  \\\\\n",
      "Gadgets &  1447 & 213 & 0.15  \\\\\n",
      "Wearables &  614 & 112 & 0.18  \\\\\n",
      "Web &  2460 & 127 & 0.05  \\\\\n",
      "Software &  1463 & 96 & 0.07  \\\\\n",
      "Hardware &  1666 & 289 & 0.17  \\\\\n",
      "Illustration &  589 & 119 & 0.20  \\\\\n",
      "Painting &  662 & 115 & 0.17  \\\\\n",
      "Crafts &  1663 & 215 & 0.13  \\\\\n",
      "Product Design &  2221 & 267 & 0.12  \\\\\n",
      "Animation &  433 & 70 & 0.16  \\\\\n",
      "Documentary &  1570 & 230 & 0.15  \\\\\n",
      "Narrative Film &  474 & 112 & 0.24  \\\\\n",
      "Shorts &  862 & 70 & 0.08  \\\\\n",
      "Webseries &  807 & 138 & 0.17  \\\\\n",
      "Tabletop Games &  1559 & 109 & 0.07  \\\\\n"
     ]
    }
   ],
   "source": [
    "import urllib.parse\n",
    "import urllib.request\n",
    "import re\n",
    "categories = [i for i in range(331,343)] + [51, 52, 362] + [i for i in range(21,35)]\n",
    "for c in categories:\n",
    "    #try:\n",
    "    url = 'https://www.kickstarter.com/discover/advanced?'\n",
    "    values = {'category_id' : c, 'woe_id': '0', 'sort': 'end_date', 'seed' : '2431954', 'page': 1}\n",
    "    data = urllib.parse.urlencode(values)\n",
    "    reqUrl = url + str(data)\n",
    "    req = urllib.request.Request(reqUrl)\n",
    "    resp = urllib.request.urlopen(req)\n",
    "    respData = resp.read()\n",
    "    categoriy = re.findall(r'class=\"category\">live (.*?) projects', str(respData))[0]\n",
    "    if len(df[df.Subcategory == str(c)]) >= 400:\n",
    "        print(categoriy, \"& \", len(df[df.Subcategory == str(c)]), \"&\", \"{:.0f}\".format(subcat[str(c)]*len(t[indexes_n])),\n",
    "      \"&\", \"{:.2f}\".format(subcat[str(c)]*len(t[indexes_n])/len(df[df.Subcategory == str(c)])), \" \\\\\\\\\")\n",
    "    #except Exception as e:\n",
    "        #continue\n",
    "    "
   ]
  },
  {
   "cell_type": "markdown",
   "metadata": {},
   "source": [
    "### Napovedovanje FP in FN - verjetnosti"
   ]
  },
  {
   "cell_type": "markdown",
   "metadata": {},
   "source": [
    "#### Napačneo negativne napovedi:"
   ]
  },
  {
   "cell_type": "code",
   "execution_count": 24,
   "metadata": {
    "collapsed": false
   },
   "outputs": [
    {
     "name": "stdout",
     "output_type": "stream",
     "text": [
      "0.257489069225 0.137894671668\n"
     ]
    },
    {
     "data": {
      "image/png": "[encoded data removed]",
      "text/plain": [
       "<matplotlib.figure.Figure at 0x7fed6b730908>"
      ]
     },
     "metadata": {},
     "output_type": "display_data"
    }
   ],
   "source": [
    "%matplotlib inline\n",
    "import matplotlib.pyplot as plt\n",
    "\n",
    "mu = np.average(fn_pr)\n",
    "sigma = np.std(np.array(fn_pr))\n",
    "\n",
    "print(mu, sigma)\n",
    "\n",
    "count, bins, ignored = plt.hist(fn_pr, 20)\n",
    "#plt.plot(bins, 1/(sigma * np.sqrt(2 * np.pi)) * np.exp( - (bins - mu)**2 / (2 * sigma**2)), linewidth=2, color='r')\n",
    "plt.show()"
   ]
  },
  {
   "cell_type": "markdown",
   "metadata": {},
   "source": [
    "##### Napačneo pozitivne napovedi:"
   ]
  },
  {
   "cell_type": "code",
   "execution_count": 25,
   "metadata": {
    "collapsed": false
   },
   "outputs": [
    {
     "name": "stdout",
     "output_type": "stream",
     "text": [
      "0.708699593975 0.130696446951\n"
     ]
    },
    {
     "data": {
      "image/png": "[encoded data removed]",
      "text/plain": [
       "<matplotlib.figure.Figure at 0x7fed6bac39b0>"
      ]
     },
     "metadata": {},
     "output_type": "display_data"
    }
   ],
   "source": [
    "%matplotlib inline\n",
    "import matplotlib.pyplot as plt\n",
    "\n",
    "mu = np.average(fp_pr)\n",
    "sigma = np.std(np.array(fp_pr))\n",
    "\n",
    "print(mu, sigma)\n",
    "\n",
    "count, bins, ignored = plt.hist(fp_pr, 20)\n",
    "#plt.plot(bins, 1/(sigma * np.sqrt(2 * np.pi)) * np.exp( - (bins - mu)**2 / (2 * sigma**2)), linewidth=2, color='r')\n",
    "plt.show()"
   ]
  }
 ],
 "metadata": {
  "kernelspec": {
   "display_name": "Python 3",
   "language": "python",
   "name": "python3"
  },
  "language_info": {
   "codemirror_mode": {
    "name": "ipython",
    "version": 3
   },
   "file_extension": ".py",
   "mimetype": "text/x-python",
   "name": "python",
   "nbconvert_exporter": "python",
   "pygments_lexer": "ipython3",
   "version": "3.5.1"
  }
 },
 "nbformat": 4,
 "nbformat_minor": 0
}
